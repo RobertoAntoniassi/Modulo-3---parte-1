{
 "cells": [
  {
   "cell_type": "markdown",
   "source": [
    "### 01 - Teste de gravidez\n",
    "Escreva uma célula com controle de fluxos que tem como premissa a existência das seguintes variáveis:\n",
    "\n",
    "- ```sexo``` como ```str``` indicando os valores '**M**' para masculino e '**F**' para feminino  \n",
    "- ```beta_hcg``` que indica a quantidade do beta-HCG no sangue em mUI/mL.\n",
    "\n",
    "A sua tarefa é escrever um código que imprima como resultado \"indivíduo do sexo masculino\" quando sexo = 'M', caso sexo = 'F', se o valor de beta-HCG for maior que 5, retorne \"Positivo\" indicando que a paciente está grávida, e retorne \"Negativo\" caso contrário.\n",
    "\n",
    "Não mexa nos valores da variável ```sexo``` nem em ```beta_hcg```, e escreva um código que funcione para quaisquer valores possíveis de ambos: ```sexo``` = '**M**' ou '**F**' e ```beta_hcg``` assumindo valores inteiros positivos."
   ],
   "metadata": {}
  },
  {
   "cell_type": "code",
   "execution_count": 27,
   "source": [
    "sexo = 'M'\r\n",
    "beta_hcg = 0\r\n",
    "\r\n",
    "# seu código vem abaixo desta linha\r\n",
    "\r\n",
    "if sexo == 'M':\r\n",
    "    print(\"Indivíduo do sexo Masculino\")\r\n",
    "elif beta_hcg > 5:\r\n",
    "    print(\"Positivo\")\r\n",
    "else:\r\n",
    "    print(\"Negativo\")\r\n"
   ],
   "outputs": [
    {
     "output_type": "stream",
     "name": "stdout",
     "text": [
      "Indivíduo do sexo Masculino\n"
     ]
    }
   ],
   "metadata": {}
  },
  {
   "cell_type": "markdown",
   "source": [
    "### 02 - Renomeando variáveis\n",
    "\n",
    "Vamos ver adiante que uma forma de renomear variáveis de um conjunto de dados é através de dicionários - o dicionário deve conter como chave o nome original, associando a cada chave um único valor (tipo *str*) que contenha o nome novo.\n",
    "\n",
    "A sua tarefa é escrever um dicionário que possa ser utilizado para traduzir as variáveis ```name``` (nome), ```age``` (idade) e ```income``` (renda). Ou seja, esse dicionário deve relacionar as chaves *name, age* e *income* às suas respectivas traduções."
   ],
   "metadata": {}
  },
  {
   "cell_type": "code",
   "execution_count": 28,
   "source": [
    "dic_renomeacao = {'': ''}\r\n",
    "dic_renomeacao = {'name':'nome','age':'idade','income':'renda'}"
   ],
   "outputs": [],
   "metadata": {}
  },
  {
   "cell_type": "code",
   "execution_count": 29,
   "source": [
    "dic_renomeacao['name']"
   ],
   "outputs": [
    {
     "output_type": "execute_result",
     "data": {
      "text/plain": [
       "'nome'"
      ]
     },
     "metadata": {},
     "execution_count": 29
    }
   ],
   "metadata": {}
  },
  {
   "cell_type": "code",
   "execution_count": 30,
   "source": [
    "dic_renomeacao['age']"
   ],
   "outputs": [
    {
     "output_type": "execute_result",
     "data": {
      "text/plain": [
       "'idade'"
      ]
     },
     "metadata": {},
     "execution_count": 30
    }
   ],
   "metadata": {}
  },
  {
   "cell_type": "code",
   "execution_count": 31,
   "source": [
    "dic_renomeacao['income']"
   ],
   "outputs": [
    {
     "output_type": "execute_result",
     "data": {
      "text/plain": [
       "'renda'"
      ]
     },
     "metadata": {},
     "execution_count": 31
    }
   ],
   "metadata": {}
  },
  {
   "cell_type": "markdown",
   "source": [
    "### 03 - É divisível?\n",
    "A sua tarefa é escrever um código que indique se um número ```N``` é divisível por um número P. Escreva um programa que faça essa verificação para quaisquer combinações de ```N``` e ```M``` e devolva uma mensagem indicativa no output."
   ],
   "metadata": {}
  },
  {
   "cell_type": "code",
   "execution_count": 32,
   "source": [
    "N = 42\r\n",
    "M = 7\r\n",
    "\r\n",
    "#Seu código\r\n",
    "\r\n",
    "#for N in range(1,N+1):\r\n",
    "   \r\n",
    "if N % M == 0:\r\n",
    "\r\n",
    "    print('N é divisível por M')\r\n",
    "    \r\n",
    "else:\r\n",
    "    \r\n",
    "    print('N não é divisível por M')\r\n"
   ],
   "outputs": [
    {
     "output_type": "stream",
     "name": "stdout",
     "text": [
      "N é divisível por M\n"
     ]
    }
   ],
   "metadata": {}
  },
  {
   "cell_type": "markdown",
   "source": [
    "### 04 - Números primos\n",
    "> Um número **N** é primo se e somente se é divisível por 1, -1, por **N** e por -**N**.  \n",
    "\n",
    "Escreva um script que verifica se ```N``` é um número primo, verificando se ```N``` é divisível por todos os números de ```1``` a ```N-1```. Você vai precisar usar alguma ferramenta de *loop* que você aprendeu para isto. No final, devolva uma mensagem no output indicando se o número é primo ou não."
   ],
   "metadata": {}
  },
  {
   "cell_type": "code",
   "execution_count": 33,
   "source": [
    "N = 47\r\n",
    "\r\n",
    "# seu código abaixo\r\n",
    "\r\n",
    "if N < 2:\r\n",
    "    \r\n",
    "    print(N, \"Não é um número Primo\")\r\n",
    "    \r\n",
    "elif N == 2: \r\n",
    "    \r\n",
    "    print(N, \"É um número Primo\")\r\n",
    "    \r\n",
    "elif N % 2 == 0:\r\n",
    "\r\n",
    "    print(N, \"Não é um número Primo\")\r\n",
    "    \r\n",
    "else:\r\n",
    "\r\n",
    "    for i in range(3, N // 2, 2):\r\n",
    "        if N % i == 0:\r\n",
    "            print(N, \"Não é um número Primo\")\r\n",
    "            break \r\n",
    "    else:\r\n",
    "        print(N, \"É um número Primo\")  \r\n",
    " \r\n",
    "\r\n",
    " "
   ],
   "outputs": [
    {
     "output_type": "stream",
     "name": "stdout",
     "text": [
      "47 É um número Primo\n"
     ]
    }
   ],
   "metadata": {}
  },
  {
   "cell_type": "markdown",
   "source": [
    "### 05 - Desafio\n",
    "O algorítmo do exercício anterior não é o mais eficiente. O que você pode fazer para deixá-lo mais eficiente? Ou seja, executar menos comparações, portanto consumir menos tempo.\n",
    "1. Será que precisamos correr o loop até o final sempre?\n",
    "2. Será que precisamos mesmo verificar **todos** os números?\n",
    "3. Será que precisamos ir até N-1?\n",
    "\n",
    "Essas perguntas levam ao tipo de pensamento voltado a deixar um algoritmo mais eficiente. Veja se você consegue melhorar o seu."
   ],
   "metadata": {}
  },
  {
   "cell_type": "code",
   "execution_count": 34,
   "source": [
    "N = 98\r\n",
    "\r\n",
    "# seu código aqui\r\n",
    "\r\n",
    "if N > 1:\r\n",
    " \r\n",
    "    for i in range(2, N):\r\n",
    " \r\n",
    "        if (N % i) == 0:\r\n",
    "        \r\n",
    "            print(N, \"Não é um número Primo\")\r\n",
    "          \r\n",
    "            break\r\n",
    "            \r\n",
    "    else:\r\n",
    "        print(N, \"É um número Primo\")\r\n",
    "        \r\n",
    "else:\r\n",
    "    print(N, \"Não é um número Primo\")  \r\n"
   ],
   "outputs": [
    {
     "output_type": "stream",
     "name": "stdout",
     "text": [
      "98 Não é um número Primo\n"
     ]
    }
   ],
   "metadata": {}
  },
  {
   "cell_type": "markdown",
   "source": [
    "### 06 - Peso ideal 1\n",
    "O IMC (índice de massa corpórea) é um indicador de saúde mais bem aceito que o peso. Ele é calculado como:\n",
    "\n",
    "$$ IMC = \\dfrac{peso}{altura^2}$$\n",
    "\n",
    "Segundo a OMS, valores *normais* são entre 18.5 e 24.9.\n",
    "\n",
    "Sua tarefa é encontrar o ponto médio dessa faixa."
   ],
   "metadata": {}
  },
  {
   "cell_type": "code",
   "execution_count": 35,
   "source": [
    "imc_ideal = (18.5+24.9)/2\r\n",
    "imc_ideal"
   ],
   "outputs": [
    {
     "output_type": "execute_result",
     "data": {
      "text/plain": [
       "21.7"
      ]
     },
     "metadata": {},
     "execution_count": 35
    }
   ],
   "metadata": {}
  },
  {
   "cell_type": "markdown",
   "source": [
    "### 07 - Peso ideal 2\n",
    "Recebendo um valor de altura, encontre o peso '*ideal*' dessa pessoa, que fornece o IMC encontrado acima"
   ],
   "metadata": {}
  },
  {
   "cell_type": "code",
   "execution_count": 36,
   "source": [
    "altura = 1.70\r\n",
    "\r\n",
    "# Seu código\r\n",
    "peso_ideal = imc_ideal*altura**2\r\n",
    "peso_ideal"
   ],
   "outputs": [
    {
     "output_type": "execute_result",
     "data": {
      "text/plain": [
       "62.712999999999994"
      ]
     },
     "metadata": {},
     "execution_count": 36
    }
   ],
   "metadata": {}
  },
  {
   "cell_type": "markdown",
   "source": [
    "### 08 - Peso ideal 3\n",
    "Dada uma lista contendo as alturas de pacientes, crie uma nova lista que contenha o peso '*ideal*' (que fornece o IMC calculado em **Peso ideal 1**) desses pacientes."
   ],
   "metadata": {}
  },
  {
   "cell_type": "code",
   "execution_count": 37,
   "source": [
    "lista_alturas = [1.95, 2.05, 1.70, 1.65]\r\n",
    "\r\n",
    "lista_peso_ideal = []\r\n",
    "\r\n",
    "# seu código\r\n",
    "\r\n",
    "\r\n",
    "lista_peso_ideal = [imc_ideal*x**2 for x in lista_alturas]\r\n",
    "print(lista_peso_ideal)"
   ],
   "outputs": [
    {
     "output_type": "stream",
     "name": "stdout",
     "text": [
      "[82.51424999999999, 91.19425, 62.712999999999994, 59.07824999999999]\n"
     ]
    }
   ],
   "metadata": {}
  },
  {
   "cell_type": "markdown",
   "source": [
    "### 09 - Peso ideal 4\n",
    "Dada uma lista de tuplas - cada elemento da lista é uma tupla contendo altura e peso de um paciente - crie uma nova lista com o IMC desses pacientes."
   ],
   "metadata": {}
  },
  {
   "cell_type": "code",
   "execution_count": 38,
   "source": [
    "altura_peso = [(1.80, 90), (1.65, 75), (1.91, 70)]\r\n",
    "\r\n",
    "imc = []\r\n",
    "\r\n",
    "# seu código\r\n",
    "\r\n",
    "for altura, peso in altura_peso:\r\n",
    "    \r\n",
    "    x = peso/altura**2\r\n",
    "    \r\n",
    "    imc.append(x)\r\n",
    "    \r\n",
    "print(imc)\r\n",
    "    \r\n"
   ],
   "outputs": [
    {
     "output_type": "stream",
     "name": "stdout",
     "text": [
      "[27.777777777777775, 27.548209366391188, 19.188070502453332]\n"
     ]
    }
   ],
   "metadata": {}
  },
  {
   "cell_type": "markdown",
   "source": [
    "### 10 - Peso ideal 5\n",
    "Dada uma lista de **listas** - cada elemento da lista é uma **lista** contendo altura e peso de um paciente, adicione mais um elemento à lista de cada paciente contendo o IMC do paciente. Verifique também se é 'baixo', 'normal' ou 'alto' segundo os padrões da OMS em que normal é entre 18.5 e 24.9.\n",
    "\n",
    "Reflexão: por que no problema anterior temos que criar uma nova lista, e não podemos adicionar os dados de cada indivíduo à tupla?"
   ],
   "metadata": {}
  },
  {
   "cell_type": "code",
   "execution_count": 39,
   "source": [
    "altura_peso = [[1.80, 90], [1.65, 75], [1.91, 70]]\r\n",
    "\r\n",
    "for pessoa in altura_peso:\r\n",
    "    \r\n",
    "    imc = pessoa[1]/pessoa[0]**2\r\n",
    "    if (imc < 18.5):\r\n",
    "        classe_imc = 'baixo'\r\n",
    "    elif (imc > 24.9):\r\n",
    "        classe_imc = 'alto'\r\n",
    "    else: classe_imc = 'normal'    \r\n",
    "    pessoa.append(imc)\r\n",
    "    pessoa.append(classe_imc)\r\n",
    "       \r\n",
    "print(altura_peso)\r\n",
    "\r\n",
    "\r\n",
    "\r\n",
    "#[[1.8, 90, 27.777777777777775, 'alto'],\r\n",
    "# [1.65, 75, 27.548209366391188, 'alto'],\r\n",
    "# [1.91, 70, 19.188070502453332, 'normal']]"
   ],
   "outputs": [
    {
     "output_type": "stream",
     "name": "stdout",
     "text": [
      "[[1.8, 90, 27.777777777777775, 'alto'], [1.65, 75, 27.548209366391188, 'alto'], [1.91, 70, 19.188070502453332, 'normal']]\n"
     ]
    }
   ],
   "metadata": {}
  },
  {
   "cell_type": "code",
   "execution_count": null,
   "source": [],
   "outputs": [],
   "metadata": {}
  }
 ],
 "metadata": {
  "kernelspec": {
   "name": "python3",
   "display_name": "Python 3.8.8 64-bit ('base': conda)"
  },
  "language_info": {
   "codemirror_mode": {
    "name": "ipython",
    "version": 3
   },
   "file_extension": ".py",
   "mimetype": "text/x-python",
   "name": "python",
   "nbconvert_exporter": "python",
   "pygments_lexer": "ipython3",
   "version": "3.8.8"
  },
  "interpreter": {
   "hash": "b3ba2566441a7c06988d0923437866b63cedc61552a5af99d1f4fb67d367b25f"
  }
 },
 "nbformat": 4,
 "nbformat_minor": 4
}